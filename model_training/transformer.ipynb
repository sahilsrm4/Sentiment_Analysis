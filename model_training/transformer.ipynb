{
 "cells": [
  {
   "cell_type": "code",
   "execution_count": 4,
   "metadata": {},
   "outputs": [
    {
     "name": "stderr",
     "output_type": "stream",
     "text": [
      "c:\\Users\\dell\\AppData\\Local\\Programs\\Python\\Python311\\Lib\\site-packages\\tqdm\\auto.py:21: TqdmWarning: IProgress not found. Please update jupyter and ipywidgets. See https://ipywidgets.readthedocs.io/en/stable/user_install.html\n",
      "  from .autonotebook import tqdm as notebook_tqdm\n"
     ]
    }
   ],
   "source": [
    "from transformers import pipeline"
   ]
  },
  {
   "cell_type": "code",
   "execution_count": 5,
   "metadata": {},
   "outputs": [
    {
     "name": "stdout",
     "output_type": "stream",
     "text": [
      "WARNING:tensorflow:From c:\\Users\\dell\\AppData\\Local\\Programs\\Python\\Python311\\Lib\\site-packages\\tf_keras\\src\\losses.py:2976: The name tf.losses.sparse_softmax_cross_entropy is deprecated. Please use tf.compat.v1.losses.sparse_softmax_cross_entropy instead.\n",
      "\n",
      "WARNING:tensorflow:From c:\\Users\\dell\\AppData\\Local\\Programs\\Python\\Python311\\Lib\\site-packages\\tf_keras\\src\\backend.py:873: The name tf.get_default_graph is deprecated. Please use tf.compat.v1.get_default_graph instead.\n",
      "\n"
     ]
    },
    {
     "name": "stderr",
     "output_type": "stream",
     "text": [
      "All model checkpoint layers were used when initializing TFRobertaForSequenceClassification.\n",
      "\n",
      "All the layers of TFRobertaForSequenceClassification were initialized from the model checkpoint at cardiffnlp/twitter-roberta-base-sentiment.\n",
      "If your task is similar to the task the model of the checkpoint was trained on, you can already use TFRobertaForSequenceClassification for predictions without further training.\n",
      "Device set to use 0\n"
     ]
    },
    {
     "name": "stdout",
     "output_type": "stream",
     "text": [
      "[{'label': 'LABEL_1', 'score': 0.9035197496414185}]\n"
     ]
    }
   ],
   "source": [
    "classifier = pipeline('sentiment-analysis', model = 'cardiffnlp/twitter-roberta-base-sentiment')\n",
    "\n",
    "text = 'how long does it stay spinning? if it was accelerated faster would it maintain its speed?\\n'\n",
    "\n",
    "res = classifier(text)\n",
    "print(res)"
   ]
  },
  {
   "cell_type": "code",
   "execution_count": 11,
   "metadata": {},
   "outputs": [
    {
     "name": "stdout",
     "output_type": "stream",
     "text": [
      "{0: 'LABEL_0', 1: 'LABEL_1', 2: 'LABEL_2'}\n"
     ]
    }
   ],
   "source": [
    "model = classifier.model\n",
    "print(model.config.id2label)"
   ]
  },
  {
   "cell_type": "code",
   "execution_count": 6,
   "metadata": {},
   "outputs": [],
   "source": [
    "comments = []\n",
    "with open('../Fetched_Data/comment.txt','r', encoding='utf-8') as file:\n",
    "        for line in file:\n",
    "                comments.append(line)"
   ]
  },
  {
   "cell_type": "code",
   "execution_count": 7,
   "metadata": {},
   "outputs": [
    {
     "name": "stdout",
     "output_type": "stream",
     "text": [
      "[{'label': 'LABEL_1', 'score': 0.5933271050453186}, {'label': 'LABEL_1', 'score': 0.9035197496414185}, {'label': 'LABEL_1', 'score': 0.5811142325401306}, {'label': 'LABEL_0', 'score': 0.6506471037864685}, {'label': 'LABEL_1', 'score': 0.8881536722183228}, {'label': 'LABEL_1', 'score': 0.7373375296592712}, {'label': 'LABEL_1', 'score': 0.843970775604248}, {'label': 'LABEL_2', 'score': 0.6273351907730103}, {'label': 'LABEL_1', 'score': 0.740587592124939}, {'label': 'LABEL_1', 'score': 0.7296460866928101}, {'label': 'LABEL_2', 'score': 0.9016661643981934}, {'label': 'LABEL_1', 'score': 0.709412693977356}, {'label': 'LABEL_2', 'score': 0.970238208770752}, {'label': 'LABEL_2', 'score': 0.5612967610359192}, {'label': 'LABEL_2', 'score': 0.746158242225647}, {'label': 'LABEL_1', 'score': 0.8951327800750732}, {'label': 'LABEL_2', 'score': 0.4981320798397064}, {'label': 'LABEL_1', 'score': 0.7486150860786438}, {'label': 'LABEL_2', 'score': 0.9872762560844421}, {'label': 'LABEL_1', 'score': 0.6649842262268066}, {'label': 'LABEL_1', 'score': 0.5669271349906921}, {'label': 'LABEL_1', 'score': 0.8068867921829224}, {'label': 'LABEL_2', 'score': 0.9700746536254883}, {'label': 'LABEL_1', 'score': 0.5179344415664673}, {'label': 'LABEL_1', 'score': 0.8205494284629822}, {'label': 'LABEL_1', 'score': 0.8584449291229248}, {'label': 'LABEL_2', 'score': 0.7322589755058289}, {'label': 'LABEL_1', 'score': 0.7969117760658264}, {'label': 'LABEL_1', 'score': 0.8018112182617188}, {'label': 'LABEL_2', 'score': 0.6789474487304688}, {'label': 'LABEL_2', 'score': 0.7973546385765076}, {'label': 'LABEL_0', 'score': 0.725886344909668}, {'label': 'LABEL_1', 'score': 0.791753888130188}, {'label': 'LABEL_1', 'score': 0.8941017389297485}, {'label': 'LABEL_2', 'score': 0.971382737159729}, {'label': 'LABEL_1', 'score': 0.580021321773529}, {'label': 'LABEL_1', 'score': 0.7763170599937439}, {'label': 'LABEL_1', 'score': 0.7788903117179871}, {'label': 'LABEL_1', 'score': 0.5659486055374146}, {'label': 'LABEL_1', 'score': 0.6323302388191223}, {'label': 'LABEL_1', 'score': 0.6175310015678406}, {'label': 'LABEL_1', 'score': 0.914648175239563}, {'label': 'LABEL_1', 'score': 0.7460946440696716}, {'label': 'LABEL_1', 'score': 0.6715462803840637}, {'label': 'LABEL_0', 'score': 0.8988075852394104}, {'label': 'LABEL_1', 'score': 0.6663028597831726}, {'label': 'LABEL_1', 'score': 0.7877205014228821}, {'label': 'LABEL_1', 'score': 0.5723941326141357}, {'label': 'LABEL_0', 'score': 0.4468695819377899}, {'label': 'LABEL_2', 'score': 0.6302704811096191}, {'label': 'LABEL_1', 'score': 0.69321209192276}, {'label': 'LABEL_1', 'score': 0.7566553950309753}, {'label': 'LABEL_1', 'score': 0.7997029423713684}, {'label': 'LABEL_0', 'score': 0.5279803276062012}, {'label': 'LABEL_1', 'score': 0.7313022613525391}, {'label': 'LABEL_2', 'score': 0.6950215697288513}, {'label': 'LABEL_1', 'score': 0.6842197179794312}, {'label': 'LABEL_1', 'score': 0.9232696890830994}, {'label': 'LABEL_1', 'score': 0.7448039650917053}, {'label': 'LABEL_1', 'score': 0.8905814290046692}, {'label': 'LABEL_1', 'score': 0.8020830750465393}, {'label': 'LABEL_1', 'score': 0.8988653421401978}, {'label': 'LABEL_1', 'score': 0.8487629890441895}, {'label': 'LABEL_1', 'score': 0.8869835734367371}, {'label': 'LABEL_1', 'score': 0.7899383306503296}, {'label': 'LABEL_1', 'score': 0.5608768463134766}, {'label': 'LABEL_1', 'score': 0.8924264907836914}, {'label': 'LABEL_1', 'score': 0.6284264922142029}, {'label': 'LABEL_1', 'score': 0.6270960569381714}, {'label': 'LABEL_2', 'score': 0.5206423997879028}, {'label': 'LABEL_2', 'score': 0.954854428768158}, {'label': 'LABEL_2', 'score': 0.9724202752113342}, {'label': 'LABEL_0', 'score': 0.7095280885696411}, {'label': 'LABEL_0', 'score': 0.6900290250778198}, {'label': 'LABEL_2', 'score': 0.545730471611023}, {'label': 'LABEL_1', 'score': 0.7132703065872192}, {'label': 'LABEL_0', 'score': 0.7815670371055603}, {'label': 'LABEL_0', 'score': 0.9380764365196228}, {'label': 'LABEL_0', 'score': 0.4910842478275299}, {'label': 'LABEL_2', 'score': 0.8091309070587158}, {'label': 'LABEL_1', 'score': 0.7432300448417664}, {'label': 'LABEL_1', 'score': 0.72928786277771}, {'label': 'LABEL_1', 'score': 0.6501874923706055}, {'label': 'LABEL_2', 'score': 0.9581766724586487}, {'label': 'LABEL_1', 'score': 0.841665506362915}, {'label': 'LABEL_1', 'score': 0.7587978839874268}, {'label': 'LABEL_2', 'score': 0.6863136887550354}, {'label': 'LABEL_1', 'score': 0.690833330154419}, {'label': 'LABEL_2', 'score': 0.7843306660652161}, {'label': 'LABEL_1', 'score': 0.4932749271392822}, {'label': 'LABEL_2', 'score': 0.9855818152427673}, {'label': 'LABEL_1', 'score': 0.5462762117385864}, {'label': 'LABEL_2', 'score': 0.7740392088890076}, {'label': 'LABEL_1', 'score': 0.6587265133857727}, {'label': 'LABEL_1', 'score': 0.6030710339546204}, {'label': 'LABEL_2', 'score': 0.9788638949394226}, {'label': 'LABEL_1', 'score': 0.8597346544265747}, {'label': 'LABEL_2', 'score': 0.6781920790672302}, {'label': 'LABEL_1', 'score': 0.5022343993186951}, {'label': 'LABEL_0', 'score': 0.6818296909332275}, {'label': 'LABEL_2', 'score': 0.9887568354606628}, {'label': 'LABEL_1', 'score': 0.7588017582893372}]\n"
     ]
    }
   ],
   "source": [
    "res = classifier(comments)\n",
    "print(res)"
   ]
  },
  {
   "cell_type": "code",
   "execution_count": 12,
   "metadata": {},
   "outputs": [],
   "source": [
    "label_map = {\n",
    "    'LABEL_0':'Negative',\n",
    "    'LABEL_1':'Neutral',\n",
    "    'LABEL_2':'Positive'\n",
    "}"
   ]
  },
  {
   "cell_type": "code",
   "execution_count": 17,
   "metadata": {},
   "outputs": [
    {
     "name": "stdout",
     "output_type": "stream",
     "text": [
      "Positive:  27\n",
      "Neutral:  64\n",
      "Negative:  11\n"
     ]
    }
   ],
   "source": [
    "labels = [r['label'] for r in res]\n",
    "neutral = labels.count('LABEL_1')\n",
    "positive = labels.count('LABEL_2')\n",
    "negative = labels.count('LABEL_0')\n",
    "\n",
    "print('Positive: ',positive)\n",
    "print('Neutral: ',neutral)\n",
    "print('Negative: ',negative)\n"
   ]
  },
  {
   "cell_type": "code",
   "execution_count": 18,
   "metadata": {},
   "outputs": [],
   "source": [
    "import matplotlib.pyplot as plt"
   ]
  },
  {
   "cell_type": "code",
   "execution_count": 19,
   "metadata": {},
   "outputs": [
    {
     "data": {
      "text/plain": [
       "<BarContainer object of 3 artists>"
      ]
     },
     "execution_count": 19,
     "metadata": {},
     "output_type": "execute_result"
    },
    {
     "data": {
      "image/png": "[encoded data removed]",
      "text/plain": [
       "<Figure size 640x480 with 1 Axes>"
      ]
     },
     "metadata": {},
     "output_type": "display_data"
    }
   ],
   "source": [
    "plt.bar(['Positive','Neutral','Negative'],[positive,neutral,negative])"
   ]
  },
  {
   "cell_type": "code",
   "execution_count": 24,
   "metadata": {},
   "outputs": [
    {
     "data": {
      "text/plain": [
       "([<matplotlib.patches.Wedge at 0x2488bb31ed0>,\n",
       "  <matplotlib.patches.Wedge at 0x2488abd0d90>,\n",
       "  <matplotlib.patches.Wedge at 0x2488a6c1f50>],\n",
       " [Text(0.741065169248085, 0.8129098442799837, 'Positive'),\n",
       "  Text(-0.9691133902766284, -0.5204029561662188, 'Neutral'),\n",
       "  Text(1.0374698435390588, -0.36559037698911206, 'Negative')],\n",
       " [Text(0.4042173650444099, 0.4434053696072638, '26.5%'),\n",
       "  Text(-0.5286073037872517, -0.2838561579088466, '62.7%'),\n",
       "  Text(0.5658926419303957, -0.199412932903152, '10.8%')])"
      ]
     },
     "execution_count": 24,
     "metadata": {},
     "output_type": "execute_result"
    },
    {
     "data": {
      "image/png": "[encoded data removed]",
      "text/plain": [
       "<Figure size 640x480 with 1 Axes>"
      ]
     },
     "metadata": {},
     "output_type": "display_data"
    }
   ],
   "source": [
    "plt.pie([positive,neutral,negative],labels=['Positive','Neutral','Negative'],colors=['green','blue','red'],autopct='%1.1f%%')"
   ]
  },
  {
   "cell_type": "code",
   "execution_count": null,
   "metadata": {},
   "outputs": [],
   "source": []
  }
 ],
 "metadata": {
  "kernelspec": {
   "display_name": "Python 3",
   "language": "python",
   "name": "python3"
  },
  "language_info": {
   "codemirror_mode": {
    "name": "ipython",
    "version": 3
   },
   "file_extension": ".py",
   "mimetype": "text/x-python",
   "name": "python",
   "nbconvert_exporter": "python",
   "pygments_lexer": "ipython3",
   "version": "3.13.2"
  }
 },
 "nbformat": 4,
 "nbformat_minor": 2
}
